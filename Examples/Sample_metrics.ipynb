{
 "cells": [
  {
   "cell_type": "markdown",
   "metadata": {},
   "source": [
    "# Sample Metrics\n",
    "\n",
    "This notebook uses the new_functions that are being added to manuscripts and calculates some of the metrics to show how the module works."
   ]
  },
  {
   "cell_type": "code",
   "execution_count": 1,
   "metadata": {},
   "outputs": [],
   "source": [
    "import sys\n",
    "# to be able to import the manuscripts2 module\n",
    "sys.path.insert(0, '..')\n",
    "\n",
    "# utility and support modules\n",
    "import pandas as pd\n",
    "from pprint import pprint\n",
    "from datetime import datetime, timezone, timedelta\n",
    "\n",
    "from manuscripts2.new_functions import Query, Index, calculate_bmi, buckets_to_df\n",
    "from manuscripts2.new_functions import get_timeseries, get_trend, get_aggs\n",
    "from manuscripts2.derived_classes import Issues, PullRequests\n",
    "\n",
    "# declare the necessary variables\n",
    "github_index_name = \"perceval_github\"\n",
    "git_index_name = \"perceval_git\"\n",
    "\n",
    "github_index = Index(index_name=github_index_name)\n",
    "git_index = Index(index_name=git_index_name)\n",
    "\n",
    "start_date = datetime(2015, 1, 1)\n",
    "end_date = datetime.now()\n",
    "end_date = end_date.replace(hour=0, minute=0, second=0, microsecond=0)"
   ]
  },
  {
   "cell_type": "markdown",
   "metadata": {},
   "source": [
    "# Metrics currently supported by Manuscripts\n",
    "\n",
    "In this section, we calculate the metrics which manuscripts supports currently."
   ]
  },
  {
   "cell_type": "markdown",
   "metadata": {},
   "source": [
    "#### Trends for Closed/Open issues and PRs"
   ]
  },
  {
   "cell_type": "code",
   "execution_count": 2,
   "metadata": {},
   "outputs": [
    {
     "name": "stdout",
     "output_type": "stream",
     "text": [
      "Trend for month:  (8, 37)\n"
     ]
    }
   ],
   "source": [
    "# We get the trend for closed prs by month\n",
    "closed_pr = PullRequests(github_index).is_closed().get_cardinality(\"id_in_repo\").by_period()\n",
    "print(\"Trend for month: \", get_trend(get_timeseries(closed_pr)))"
   ]
  },
  {
   "cell_type": "code",
   "execution_count": 3,
   "metadata": {},
   "outputs": [
    {
     "name": "stdout",
     "output_type": "stream",
     "text": [
      "Trend for quarter:  (24, -233)\n"
     ]
    }
   ],
   "source": [
    "# And in a similar manner, we get the trend by quarter\n",
    "closed_pr = PullRequests(github_index).is_closed().get_cardinality(\"id_in_repo\").by_period(period=\"quarter\")\n",
    "print(\"Trend for quarter: \", get_trend(get_timeseries(closed_pr)))"
   ]
  },
  {
   "cell_type": "code",
   "execution_count": 4,
   "metadata": {},
   "outputs": [
    {
     "name": "stdout",
     "output_type": "stream",
     "text": [
      "Trend for month:  (2, -300)\n",
      "Trend for quarter:  (2, -1100)\n"
     ]
    }
   ],
   "source": [
    "# get trend by month\n",
    "opened_prs = PullRequests(github_index).get_cardinality(\"id_in_repo\").by_period()\n",
    "print(\"Trend for month: \", get_trend(get_timeseries(opened_prs)))\n",
    "\n",
    "# get trend by quarter:\n",
    "opened_pr = PullRequests(github_index).get_cardinality(\"id_in_repo\").by_period(period=\"quarter\")\n",
    "print(\"Trend for quarter: \", get_trend(get_timeseries(opened_pr)))"
   ]
  },
  {
   "cell_type": "code",
   "execution_count": 5,
   "metadata": {},
   "outputs": [
    {
     "name": "stdout",
     "output_type": "stream",
     "text": [
      "Trend for month:  (2, 100)\n",
      "Trend for quarter:  (4, -250)\n"
     ]
    }
   ],
   "source": [
    "# Trend of closed issues by month\n",
    "closed_issues = Issues(github_index).is_closed().get_cardinality(\"id_in_repo\").by_period(field=\"closed_at\")\n",
    "print(\"Trend for month: \", get_trend(get_timeseries(closed_issues)))\n",
    "\n",
    "# Similarly, trend of closed issues by quarter\n",
    "closed_issues = Issues(github_index).is_closed().get_cardinality(\"id_in_repo\").by_period(period=\"quarter\")\n",
    "print(\"Trend for quarter: \", get_trend(get_timeseries(closed_issues)))"
   ]
  },
  {
   "cell_type": "code",
   "execution_count": 6,
   "metadata": {},
   "outputs": [
    {
     "name": "stdout",
     "output_type": "stream",
     "text": [
      "Trend for month:  (1, 0)\n",
      "Trend for quarter:  (1, -200)\n"
     ]
    }
   ],
   "source": [
    "# Trend of Open issues by month\n",
    "open_issues = Issues(github_index).is_open().get_cardinality(\"id_in_repo\").by_period()\n",
    "print(\"Trend for month: \", get_trend(get_timeseries(open_issues)))\n",
    "\n",
    "# Similarly, trend of Open issues by quarter\n",
    "open_issues = Issues(github_index).is_open().get_cardinality(\"id_in_repo\").by_period(period=\"quarter\")\n",
    "print(\"Trend for quarter: \", get_trend(get_timeseries(open_issues)))"
   ]
  },
  {
   "cell_type": "code",
   "execution_count": 7,
   "metadata": {},
   "outputs": [
    {
     "name": "stdout",
     "output_type": "stream",
     "text": [
      "Trend for month:  (16, 6)\n",
      "Trend for quarter:  (64, -335)\n"
     ]
    }
   ],
   "source": [
    "# Trend for the number of commits created per month\n",
    "commits = Query(git_index).get_cardinality(\"hash\").by_period()\n",
    "print(\"Trend for month: \", get_trend(get_timeseries(commits)))\n",
    "\n",
    "# Created per quarter\n",
    "commits = Query(git_index).get_cardinality(\"hash\").by_period(period=\"quarter\")\n",
    "print(\"Trend for quarter: \", get_trend(get_timeseries(commits)))"
   ]
  },
  {
   "cell_type": "code",
   "execution_count": 8,
   "metadata": {},
   "outputs": [
    {
     "data": {
      "text/plain": [
       "8"
      ]
     },
     "execution_count": 8,
     "metadata": {},
     "output_type": "execute_result"
    }
   ],
   "source": [
    "previous_month_date = end_date - timedelta(days=30)\n",
    "\n",
    "# PRs closed in the last month\n",
    "pr = PullRequests(github_index).is_closed().get_cardinality(\"id\")\\\n",
    "                               .since(field=\"closed_at\", start=previous_month_date)\\\n",
    "                               .until(field=\"closed_at\", end=end_date)\n",
    "get_aggs(pr)"
   ]
  },
  {
   "cell_type": "code",
   "execution_count": 9,
   "metadata": {},
   "outputs": [
    {
     "data": {
      "text/plain": [
       "10"
      ]
     },
     "execution_count": 9,
     "metadata": {},
     "output_type": "execute_result"
    }
   ],
   "source": [
    "previous_month_date = end_date - timedelta(days=30)\n",
    "\n",
    "# PRs opened in the last month\n",
    "pr = PullRequests(github_index).get_cardinality(\"id\").since(start=previous_month_date).until(end=end_date)\n",
    "get_aggs(pr)"
   ]
  },
  {
   "cell_type": "code",
   "execution_count": 10,
   "metadata": {},
   "outputs": [
    {
     "data": {
      "text/plain": [
       "0.10500000044703484"
      ]
     },
     "execution_count": 10,
     "metadata": {},
     "output_type": "execute_result"
    }
   ],
   "source": [
    "previous_month_date = end_date - timedelta(days=30)\n",
    "\n",
    "# Percentile PR closed\n",
    "PR = PullRequests(github_index).is_closed().get_percentiles(\"time_to_close_days\")\\\n",
    "                               .since(start=previous_month_date)\\\n",
    "                               .until(end=end_date)\n",
    "get_aggs(PR)"
   ]
  },
  {
   "cell_type": "markdown",
   "metadata": {},
   "source": [
    "### Project Activities"
   ]
  },
  {
   "cell_type": "code",
   "execution_count": 21,
   "metadata": {},
   "outputs": [
    {
     "name": "stdout",
     "output_type": "stream",
     "text": [
      "                               unixtime  value\n",
      "date                                          \n",
      "2018-03-01 00:00:00+00:00  1.519862e+09    126\n",
      "2018-04-01 00:00:00+00:00  1.522541e+09     33\n",
      "2018-05-01 00:00:00+00:00  1.525133e+09     15\n",
      "2018-06-01 00:00:00+00:00  1.527811e+09     16\n",
      "2018-07-01 00:00:00+00:00  1.530403e+09      0\n"
     ]
    }
   ],
   "source": [
    "# number of commits made by month \n",
    "commits = Query(git_index).get_cardinality(\"hash\")\\\n",
    "                          .since(start=start_date)\\\n",
    "                          .until(end=end_date)\\\n",
    "                          .by_period()\n",
    "\n",
    "print(get_timeseries(commits, dataframe=True).tail())"
   ]
  },
  {
   "cell_type": "code",
   "execution_count": 14,
   "metadata": {},
   "outputs": [
    {
     "name": "stdout",
     "output_type": "stream",
     "text": [
      "                               unixtime  value\n",
      "date                                          \n",
      "2018-02-01 00:00:00+00:00  1.517443e+09      3\n",
      "2018-03-01 00:00:00+00:00  1.519862e+09      4\n",
      "2018-04-01 00:00:00+00:00  1.522541e+09      6\n",
      "2018-05-01 00:00:00+00:00  1.525133e+09      4\n",
      "2018-06-01 00:00:00+00:00  1.527811e+09      3\n"
     ]
    }
   ],
   "source": [
    "# number of active authors per month\n",
    "authors = Query(git_index).get_cardinality(\"author_name\").by_period()\n",
    "\n",
    "print(get_timeseries(authors, dataframe=True).tail())"
   ]
  },
  {
   "cell_type": "markdown",
   "metadata": {},
   "source": [
    "### Process"
   ]
  },
  {
   "cell_type": "code",
   "execution_count": 22,
   "metadata": {},
   "outputs": [
    {
     "name": "stdout",
     "output_type": "stream",
     "text": [
      "                      period       bmi\n",
      "38 2018-03-01 00:00:00+00:00  0.875000\n",
      "39 2018-04-01 00:00:00+00:00  1.000000\n",
      "40 2018-05-01 00:00:00+00:00  0.333333\n",
      "41 2018-06-01 00:00:00+00:00  0.500000\n",
      "42 2018-07-01 00:00:00+00:00  0.000000\n"
     ]
    }
   ],
   "source": [
    "# Issues closed/ issues created\n",
    "closed_issues = Issues(github_index).is_closed()\\\n",
    "                                    .get_cardinality(\"id\")\\\n",
    "                                    .since(start=start_date)\\\n",
    "                                    .until(end=end_date)\\\n",
    "                                    .by_period()\n",
    "closed_ts = get_timeseries(closed_issues)\n",
    "\n",
    "opened_issues =Issues(github_index).get_cardinality(\"id\")\\\n",
    "                                   .since(start=start_date).until(end=end_date)\\\n",
    "                                   .by_period()\n",
    "opened_ts = get_timeseries(opened_issues)\n",
    "\n",
    "print(pd.DataFrame(calculate_bmi(closed_ts, opened_ts)).tail())"
   ]
  },
  {
   "cell_type": "code",
   "execution_count": 24,
   "metadata": {},
   "outputs": [
    {
     "name": "stdout",
     "output_type": "stream",
     "text": [
      "                      period   bmi\n",
      "38 2018-03-01 00:00:00+00:00  0.92\n",
      "39 2018-04-01 00:00:00+00:00  1.00\n",
      "40 2018-05-01 00:00:00+00:00  1.00\n",
      "41 2018-06-01 00:00:00+00:00  1.00\n",
      "42 2018-07-01 00:00:00+00:00  0.00\n"
     ]
    }
   ],
   "source": [
    "# PRs closed/ PRs submitted\n",
    "\n",
    "closed_pr = PullRequests(github_index).get_cardinality(\"id\")\\\n",
    "                                      .is_closed()\\\n",
    "                                      .since(start=start_date).until(end=end_date)\\\n",
    "                                      .by_period()\n",
    "closed_ts = get_timeseries(closed_pr)\n",
    "\n",
    "opened_pr = PullRequests(github_index).get_cardinality(\"id\")\\\n",
    "                                      .since(start=start_date).until(end=end_date)\\\n",
    "                                      .by_period()\n",
    "opened_ts = get_timeseries(opened_pr)\n",
    "\n",
    "print(pd.DataFrame(calculate_bmi(closed_ts, opened_ts)).tail())"
   ]
  },
  {
   "cell_type": "code",
   "execution_count": 25,
   "metadata": {},
   "outputs": [
    {
     "name": "stdout",
     "output_type": "stream",
     "text": [
      "                               unixtime     value\n",
      "date                                             \n",
      "2018-03-01 00:00:00+00:00  1.519862e+09  2.409130\n",
      "2018-04-01 00:00:00+00:00  1.522541e+09  4.794545\n",
      "2018-05-01 00:00:00+00:00  1.525133e+09  2.822000\n",
      "2018-06-01 00:00:00+00:00  1.527811e+09  1.718750\n",
      "2018-07-01 00:00:00+00:00  1.530403e+09  0.000000\n"
     ]
    }
   ],
   "source": [
    "# days to close review(PR) average\n",
    "closed_pr = PullRequests(github_index).get_average(\"time_to_close_days\")\\\n",
    "                                      .is_closed()\\\n",
    "                                      .since(start=start_date).until(end=end_date)\\\n",
    "                                      .by_period()\n",
    "print(get_timeseries(closed_pr, dataframe=True).tail())"
   ]
  },
  {
   "cell_type": "code",
   "execution_count": 20,
   "metadata": {},
   "outputs": [
    {
     "name": "stdout",
     "output_type": "stream",
     "text": [
      "                               unixtime  value\n",
      "date                                          \n",
      "2018-03-01 00:00:00+00:00  1.519862e+09  2.310\n",
      "2018-04-01 00:00:00+00:00  1.522541e+09  0.850\n",
      "2018-05-01 00:00:00+00:00  1.525133e+09  2.510\n",
      "2018-06-01 00:00:00+00:00  1.527811e+09  0.105\n",
      "2018-07-01 00:00:00+00:00  1.530403e+09  0.000\n"
     ]
    }
   ],
   "source": [
    "# days to close review(PR) average\n",
    "closed_pr = PullRequests(github_index).is_closed()\\\n",
    "                                      .since(start=start_date).until(end=end_date)\\\n",
    "                                      .get_percentiles(\"time_to_close_days\").by_period()\n",
    "print(get_timeseries(closed_pr, dataframe=True).tail())"
   ]
  },
  {
   "cell_type": "markdown",
   "metadata": {},
   "source": [
    "<h1 align=\"center\">Growth Maturity and Decline Metrics</h1>"
   ]
  },
  {
   "cell_type": "markdown",
   "metadata": {},
   "source": [
    "## Issue Resolution\n",
    "Goal: Identify how effective the community is at addressing issues identified by community partcipants.\n",
    "\n",
    "Name | Question | Implemented | Issue | PR | Visualisation \n",
    "--- | --- | --- | --- | --- | --- |\n",
    "[Open Issues](https://github.com/chaoss/metrics/tree/master/activity-metrics/open-issues.md) | What is the number of open issues? | Yes | None | None | No\n",
    "[Closed Issues](https://github.com/chaoss/metrics/tree/master/activity-metrics/closed-issues.md) | What is the number of closed issues? | Yes | None | None | No\n",
    "[Issue Resolution Efficiency](https://github.com/chaoss/metrics/tree/master/activity-metrics/issue-resolution-efficiency.md) | What is the number of closed issues/number of abandoned issues? | Yes | [wg-gmd#5](https://github.com/chaoss/wg-gmd/issues/5) | None | No\n",
    "[Open Issue Age](https://github.com/chaoss/metrics/tree/master/activity-metrics/open-issue-age.md) | What is the the age of open issues? | Yes | None | None | No\n",
    "[First Response to Issue Duration](https://github.com/chaoss/metrics/tree/master/activity-metrics/first-response-to-issue-duration.md) | What is the duration of time for a first response to an issue? | No | [wg-gmd#8](https://github.com/chaoss/wg-gmd/issues/8) | None | No\n",
    "[Closed Issue Resolution Duration](https://github.com/chaoss/metrics/tree/master/activity-metrics/closed-issue-resolution-duration.md) | What is the duration of time for issues to be resolved? | Yes | [wg-gmd#7](https://github.com/chaoss/wg-gmd/issues/7) | None | No"
   ]
  },
  {
   "cell_type": "markdown",
   "metadata": {},
   "source": [
    "<a id=\"open_issues\"></a>\n",
    "### open issues"
   ]
  },
  {
   "cell_type": "markdown",
   "metadata": {},
   "source": [
    "Here, we can see that we get the issues open by authors, by organizations and by the month in which they were created."
   ]
  },
  {
   "cell_type": "code",
   "execution_count": 36,
   "metadata": {},
   "outputs": [
    {
     "name": "stdout",
     "output_type": "stream",
     "text": [
      "Number of currently open issues:  26\n"
     ]
    }
   ],
   "source": [
    "num_open_issues = Issues(github_index).is_open().get_cardinality(\"id_in_repo\")\n",
    "print(\"Number of currently open issues: \", get_aggs(num_open_issues))"
   ]
  },
  {
   "cell_type": "markdown",
   "metadata": {},
   "source": [
    "<a id=\"closed_issues\"></a>\n",
    "### closed issues"
   ]
  },
  {
   "cell_type": "code",
   "execution_count": 37,
   "metadata": {},
   "outputs": [
    {
     "name": "stdout",
     "output_type": "stream",
     "text": [
      "Number of closed issues:  115\n",
      "\n",
      "    0  doc_count                key\n",
      "26  1          1            Maëlick\n",
      "27  1          1     Michael Downey\n",
      "28  1          1    Phillip Furtado\n",
      "29  1          1  Samuel Ytterbrink\n",
      "30  1          1         Taewan Kim\n"
     ]
    }
   ],
   "source": [
    "num_closed_issues = Issues(github_index).is_closed().get_cardinality(\"id_in_repo\")\n",
    "print(\"Number of closed issues: \", get_aggs(num_closed_issues))\n",
    "print()\n",
    "\n",
    "closed_by_authors = Issues(github_index).get_cardinality(\"id_in_repo\")\\\n",
    "                                        .by_authors(\"author_name\")\\\n",
    "                                        .fetch_aggregation_results()\n",
    "print(buckets_to_df(closed_by_authors['aggregations']['0']['buckets']).tail())"
   ]
  },
  {
   "cell_type": "markdown",
   "metadata": {},
   "source": [
    "<a id=\"closed_issues\"></a>\n",
    "### open issue age\n",
    "\n",
    "As per the [discussion here](https://github.com/chaoss/metrics/blob/master/activity-metrics/open-issue-age.md), We'll calculate the percentile, mean, variance and create some visualisations for this metric."
   ]
  },
  {
   "cell_type": "code",
   "execution_count": 38,
   "metadata": {},
   "outputs": [
    {
     "name": "stdout",
     "output_type": "stream",
     "text": [
      "Percentiles:  457.7949981689453\n",
      "\n",
      "{'avg': 433.9188483609603,\n",
      " 'count': 26,\n",
      " 'max': 859.280029296875,\n",
      " 'min': 0.800000011920929,\n",
      " 'std_deviation': 300.27044915502813,\n",
      " 'std_deviation_bounds': {'lower': -166.62204994909598,\n",
      "                          'upper': 1034.4597466710165},\n",
      " 'sum': 11281.890057384968,\n",
      " 'sum_of_squares': 7239645.649565274,\n",
      " 'variance': 90162.34263576234}\n"
     ]
    }
   ],
   "source": [
    "issues = Issues(github_index).is_open().get_percentiles(\"time_open_days\")\n",
    "print(\"Percentiles: \", get_aggs(issues))\n",
    "print()\n",
    "\n",
    "issues.get_extended_stats(\"time_open_days\")\n",
    "extended_stats = issues.fetch_aggregation_results()['aggregations']['1']\n",
    "pprint(extended_stats)"
   ]
  },
  {
   "cell_type": "markdown",
   "metadata": {},
   "source": [
    "#### visualizations"
   ]
  },
  {
   "cell_type": "code",
   "execution_count": 39,
   "metadata": {},
   "outputs": [
    {
     "data": {
      "text/html": [
       "<div>\n",
       "<style scoped>\n",
       "    .dataframe tbody tr th:only-of-type {\n",
       "        vertical-align: middle;\n",
       "    }\n",
       "\n",
       "    .dataframe tbody tr th {\n",
       "        vertical-align: top;\n",
       "    }\n",
       "\n",
       "    .dataframe thead th {\n",
       "        text-align: right;\n",
       "    }\n",
       "</style>\n",
       "<table border=\"1\" class=\"dataframe\">\n",
       "  <thead>\n",
       "    <tr style=\"text-align: right;\">\n",
       "      <th></th>\n",
       "      <th>id_in_repo</th>\n",
       "      <th>time_open_days</th>\n",
       "    </tr>\n",
       "  </thead>\n",
       "  <tbody>\n",
       "    <tr>\n",
       "      <th>0</th>\n",
       "      <td>58</td>\n",
       "      <td>662.44</td>\n",
       "    </tr>\n",
       "    <tr>\n",
       "      <th>1</th>\n",
       "      <td>104</td>\n",
       "      <td>552.54</td>\n",
       "    </tr>\n",
       "    <tr>\n",
       "      <th>2</th>\n",
       "      <td>319</td>\n",
       "      <td>144.46</td>\n",
       "    </tr>\n",
       "    <tr>\n",
       "      <th>3</th>\n",
       "      <td>385</td>\n",
       "      <td>43.47</td>\n",
       "    </tr>\n",
       "    <tr>\n",
       "      <th>4</th>\n",
       "      <td>91</td>\n",
       "      <td>602.51</td>\n",
       "    </tr>\n",
       "  </tbody>\n",
       "</table>\n",
       "</div>"
      ],
      "text/plain": [
       "  id_in_repo  time_open_days\n",
       "0         58          662.44\n",
       "1        104          552.54\n",
       "2        319          144.46\n",
       "3        385           43.47\n",
       "4         91          602.51"
      ]
     },
     "execution_count": 39,
     "metadata": {},
     "output_type": "execute_result"
    }
   ],
   "source": [
    "# visualisations\n",
    "time_open_days_issues_df = Issues(github_index).is_open()\\\n",
    "                                               .fetch_results_from_source('time_open_days', \\\n",
    "                                                                          'id_in_repo', dataframe=True)\n",
    "time_open_days_issues_df.head()"
   ]
  },
  {
   "cell_type": "markdown",
   "metadata": {},
   "source": [
    "### Closed issue resolution duration (Time to resolution of closed issue)"
   ]
  },
  {
   "cell_type": "markdown",
   "metadata": {},
   "source": [
    "#### percentiles"
   ]
  },
  {
   "cell_type": "code",
   "execution_count": 40,
   "metadata": {},
   "outputs": [
    {
     "name": "stdout",
     "output_type": "stream",
     "text": [
      "Percentile closed issues:  3.6500000953674316\n",
      "\n",
      "{'avg': 30.83017426458714,\n",
      " 'count': 115,\n",
      " 'max': 582.3300170898438,\n",
      " 'min': 0.0,\n",
      " 'std_deviation': 92.63210085425231,\n",
      " 'std_deviation_bounds': {'lower': -154.4340274439175,\n",
      "                          'upper': 216.09437597309176},\n",
      " 'sum': 3545.470040427521,\n",
      " 'sum_of_squares': 1096088.661693576,\n",
      " 'variance': 8580.706108672372}\n"
     ]
    }
   ],
   "source": [
    "closed_issues = Issues(github_index).is_closed().get_percentiles(\"time_to_close_days\")\n",
    "print(\"Percentile closed issues: \", get_aggs(closed_issues))\n",
    "print()\n",
    "\n",
    "extended_stats = closed_issues.get_extended_stats(\"time_to_close_days\")\\\n",
    "                              .fetch_aggregation_results()['aggregations']['1']\n",
    "pprint(extended_stats)"
   ]
  },
  {
   "cell_type": "markdown",
   "metadata": {},
   "source": [
    "#### visualizations"
   ]
  },
  {
   "cell_type": "code",
   "execution_count": 42,
   "metadata": {},
   "outputs": [
    {
     "name": "stdout",
     "output_type": "stream",
     "text": [
      "  id_in_repo  time_to_close_days\n",
      "0         32                0.76\n",
      "1         50                3.19\n",
      "2         63                0.24\n",
      "3         97                2.62\n",
      "4         77               71.78\n"
     ]
    }
   ],
   "source": [
    "# visualisations\n",
    "closed_issue_age = Issues(github_index).is_closed()\\\n",
    "                                       .fetch_results_from_source('time_to_close_days', 'id_in_repo', dataframe=True)\n",
    "print(closed_issue_age.head())"
   ]
  },
  {
   "cell_type": "markdown",
   "metadata": {},
   "source": [
    "## Code Development\n",
    "Goal: Identify how effective the community is at merging new code into the codebase.\n",
    "\n",
    "Name | Question | Implemented | Issue | PR\n",
    "--- | --- | --- | --- | --- |\n",
    "[Code Commits](https://github.com/chaoss/metrics/tree/master/activity-metrics/code-commits.md) | What is the number of code commits? | Yes | None | None\n",
    "[Lines of Code Changed](https://github.com/chaoss/metrics/tree/master/activity-metrics/lines-of-code-changed.md) | What is the number of lines of code changed? | Yes | None | None\n",
    "[Code Reviews](https://github.com/chaoss/metrics/tree/master/activity-metrics/code-reviews.md) | What is the number of code reviews?\n",
    "[Code Merge Duration](https://github.com/chaoss/metrics/tree/master/activity-metrics/code-merge-duration.md) | What is the duration of time between code merge request and code commit?\n",
    "[Code Review Efficiency](https://github.com/chaoss/metrics/tree/master/activity-metrics/code-review-efficiency.md) | What is the number of merged code changes/number of abandoned code change requests?\n",
    "[Maintainer Response to Merge Request Duration](https://github.com/chaoss/metrics/tree/master/activity-metrics/maintainer-response-to-merge-request-duration.md) | What is the duration of time for a maintainer to make a first response to a code merge request?\n",
    "[Code Review Iteration](https://github.com/chaoss/metrics/tree/master/activity-metrics/code-review-iteration.md) | What is the number of iterations that occur before a merge request is accepted or declined?\n",
    "[Forks](https://github.com/chaoss/metrics/tree/master/activity-metrics/forks.md) | Forks are a concept in distributed version control systems like GitHub. It is a proxy for the approximate number of developers who have taken a shot at building and deploying the codebase *for development*.\n",
    "[Pull Requests Open](https://github.com/chaoss/metrics/tree/master/activity-metrics/pull-requests-open.md) | Number of open pull requests. | Yes | None | None | \n",
    "[Pull Requests Closed](https://github.com/chaoss/metrics/tree/master/activity-metrics/pull-requests-made-closed.md) | Number of closed pull requests. | Yes | None | None |\n",
    "[Pull Request Comment Duration](https://github.com/chaoss/metrics/tree/master/activity-metrics/pull-requests-comment-duration.md) | The difference between the timestamp of the pull request creation date and the most recent comment on the pull request.\n",
    "[Pull Request Comment Diversity](https://github.com/chaoss/metrics/tree/master/activity-metrics/pull-requests-comment-diversity.md) | Number of each people discussing each pull request.\n",
    "[Pull Request Comments](https://github.com/chaoss/metrics/tree/master/activity-metrics/pull-request-comments.md) | Number of comments on each pull request. \n"
   ]
  },
  {
   "cell_type": "markdown",
   "metadata": {},
   "source": [
    "### code commits\n",
    "\n",
    "**NOTE:** HERE THE INDEX WILL HAVE TO BE CHANGED"
   ]
  },
  {
   "cell_type": "code",
   "execution_count": 43,
   "metadata": {},
   "outputs": [
    {
     "name": "stdout",
     "output_type": "stream",
     "text": [
      "Total commits:  1204\n",
      "All commits:             commit_date                                      hash\n",
      "0  2015-08-18T18:54:45  2355d18310d8e15c8e5d44f688d757df33b0e4be\n",
      "1  2015-11-18T14:41:17  b0f6eb81d9b1dc5f77dce9954744016dfbb3cb4a\n",
      "2  2015-11-19T18:12:47  525f43db7764d5f3cbc846fa3bf48a0c74550e4e\n",
      "3  2015-11-25T20:56:29  4dd88bdefc77fd88fa51d3994f103f2b44003b99\n",
      "4  2015-12-01T19:44:07  95d5e90b1ff7ff07db289c03ffe1239f6f54e232\n"
     ]
    }
   ],
   "source": [
    "commits = Query(git_index).get_cardinality(\"hash\")\n",
    "print(\"Total commits: \", get_aggs(commits))\n",
    "\n",
    "all_commits = commits.fetch_results_from_source(\"hash\", \"commit_date\", dataframe=True)\n",
    "print(\"All commits: \", all_commits.head())"
   ]
  },
  {
   "cell_type": "markdown",
   "metadata": {},
   "source": [
    "When you go to the [perceval github repo](https://github.com/chaoss/grimoirelab-perceval), you'll see that actually 1182 commit are present. That maybe because of some empty commit messages. "
   ]
  },
  {
   "cell_type": "markdown",
   "metadata": {},
   "source": [
    "#### by months"
   ]
  },
  {
   "cell_type": "code",
   "execution_count": 44,
   "metadata": {},
   "outputs": [
    {
     "data": {
      "text/html": [
       "<div>\n",
       "<style scoped>\n",
       "    .dataframe tbody tr th:only-of-type {\n",
       "        vertical-align: middle;\n",
       "    }\n",
       "\n",
       "    .dataframe tbody tr th {\n",
       "        vertical-align: top;\n",
       "    }\n",
       "\n",
       "    .dataframe thead th {\n",
       "        text-align: right;\n",
       "    }\n",
       "</style>\n",
       "<table border=\"1\" class=\"dataframe\">\n",
       "  <thead>\n",
       "    <tr style=\"text-align: right;\">\n",
       "      <th></th>\n",
       "      <th>0</th>\n",
       "      <th>date_in_seconds</th>\n",
       "    </tr>\n",
       "    <tr>\n",
       "      <th>key</th>\n",
       "      <th></th>\n",
       "      <th></th>\n",
       "    </tr>\n",
       "  </thead>\n",
       "  <tbody>\n",
       "    <tr>\n",
       "      <th>2015-08-01</th>\n",
       "      <td>8</td>\n",
       "      <td>1438387200000</td>\n",
       "    </tr>\n",
       "    <tr>\n",
       "      <th>2015-09-01</th>\n",
       "      <td>0</td>\n",
       "      <td>1441065600000</td>\n",
       "    </tr>\n",
       "    <tr>\n",
       "      <th>2015-10-01</th>\n",
       "      <td>0</td>\n",
       "      <td>1443657600000</td>\n",
       "    </tr>\n",
       "    <tr>\n",
       "      <th>2015-11-01</th>\n",
       "      <td>23</td>\n",
       "      <td>1446336000000</td>\n",
       "    </tr>\n",
       "    <tr>\n",
       "      <th>2015-12-01</th>\n",
       "      <td>21</td>\n",
       "      <td>1448928000000</td>\n",
       "    </tr>\n",
       "  </tbody>\n",
       "</table>\n",
       "</div>"
      ],
      "text/plain": [
       "             0  date_in_seconds\n",
       "key                            \n",
       "2015-08-01   8    1438387200000\n",
       "2015-09-01   0    1441065600000\n",
       "2015-10-01   0    1443657600000\n",
       "2015-11-01  23    1446336000000\n",
       "2015-12-01  21    1448928000000"
      ]
     },
     "execution_count": 44,
     "metadata": {},
     "output_type": "execute_result"
    }
   ],
   "source": [
    "buckets_to_df(commits.get_cardinality(\"hash\")\\\n",
    "                     .by_period()\\\n",
    "                     .fetch_aggregation_results()['aggregations']['0']['buckets']).head()"
   ]
  },
  {
   "cell_type": "markdown",
   "metadata": {},
   "source": [
    "### Lines of code changed"
   ]
  },
  {
   "cell_type": "code",
   "execution_count": 45,
   "metadata": {},
   "outputs": [
    {
     "name": "stdout",
     "output_type": "stream",
     "text": [
      "Total lines changed:  196087.0\n",
      "Total lines added:  151353.0\n",
      "Total lines removed:  44734.0\n"
     ]
    }
   ],
   "source": [
    "commits = Query(git_index)\n",
    "lc = get_aggs(commits.get_sum(\"lines_changed\"))\n",
    "la = get_aggs(commits.get_sum(\"lines_added\"))\n",
    "lr = get_aggs(commits.get_sum(\"lines_removed\"))\n",
    "\n",
    "print(\"Total lines changed: \", lc)\n",
    "print(\"Total lines added: \", la)\n",
    "print(\"Total lines removed: \", lr)"
   ]
  },
  {
   "cell_type": "markdown",
   "metadata": {},
   "source": [
    "### Pull requests Open"
   ]
  },
  {
   "cell_type": "code",
   "execution_count": 49,
   "metadata": {},
   "outputs": [
    {
     "name": "stdout",
     "output_type": "stream",
     "text": [
      "Number of open PRs:  8\n",
      "\n"
     ]
    }
   ],
   "source": [
    "open_prs = PullRequests(github_index).is_open()\\\n",
    "                                     .get_cardinality(\"id_in_repo\")\n",
    "print(\"Number of open PRs: \", get_aggs(open_prs))\n",
    "print()\n"
   ]
  },
  {
   "cell_type": "code",
   "execution_count": 51,
   "metadata": {},
   "outputs": [
    {
     "name": "stdout",
     "output_type": "stream",
     "text": [
      "   0  doc_count                         key\n",
      "0  2          2  Jesus M. Gonzalez-Barahona\n",
      "1  2          2               Keanu Nichols\n",
      "2  1          1               Gustavo Silva\n",
      "3  1          1                 Jose Miguel\n",
      "4  1          1      Miguel Ángel Fernández\n"
     ]
    }
   ],
   "source": [
    "response = open_prs.get_cardinality(\"id_in_repo\")\\\n",
    "                   .by_authors(\"author_name\")\\\n",
    "                   .fetch_aggregation_results()['aggregations']\n",
    "open_prs_by_authors = response['0']['buckets']\n",
    "print(buckets_to_df(open_prs_by_authors).head())"
   ]
  },
  {
   "cell_type": "markdown",
   "metadata": {},
   "source": [
    "### Pull requests closed"
   ]
  },
  {
   "cell_type": "code",
   "execution_count": 53,
   "metadata": {},
   "outputs": [
    {
     "name": "stdout",
     "output_type": "stream",
     "text": [
      "Number of closed PRs:  252\n",
      "\n",
      "Closed prs by authors:\n",
      "     0  doc_count                         key\n",
      "0  138        138                     valerio\n",
      "1   33         33         Alvaro del Castillo\n",
      "2   22         22             Santiago Dueñas\n",
      "3   18         18  Jesus M. Gonzalez-Barahona\n",
      "4   10         10              Alberto Martín\n"
     ]
    }
   ],
   "source": [
    "closed_prs = PullRequests(github_index).is_closed()\\\n",
    "                                       .get_cardinality(\"id_in_repo\")\n",
    "print(\"Number of closed PRs: \", get_aggs(closed_prs))\n",
    "print()\n",
    "\n",
    "response = closed_prs.get_cardinality(\"id_in_repo\")\\\n",
    "          .by_authors(\"author_name\")\\\n",
    "          .fetch_aggregation_results()['aggregations']\n",
    "print(\"Closed prs by authors:\")\n",
    "print(buckets_to_df(response['0']['buckets']).head())"
   ]
  },
  {
   "cell_type": "markdown",
   "metadata": {},
   "source": [
    "## Community Growth\n",
    "Goal: Identify the size of the project community and whether it's growing, shrinking, or staying the same.\n",
    "\n",
    "Name | Question | Implemented | Issue | PR\n",
    "--- | --- | --- | --- | --- |\n",
    "[Contributors](https://github.com/chaoss/metrics/tree/master/activity-metrics/contributors.md) | What is the number of contributors? | Yes | None | None\n",
    "[New Contributors](https://github.com/chaoss/metrics/tree/master/activity-metrics/new-contributors.md) | What is the number of new contributors? | Yes | None | None\n",
    "[Contributing Organizations](https://github.com/chaoss/metrics/tree/master/activity-metrics/contributing-organizations.md) | What is the number of contributing organizations? | Yes | None | None\n",
    "[New Contributing Organizations](https://github.com/chaoss/metrics/tree/master/activity-metrics/new-contributing-organizations.md) | What is the number of new contributing organizations?\n",
    "[Sub-Projects](https://github.com/chaoss/metrics/tree/master/activity-metrics/sub-projects.md) | What is the number of sub-projects?"
   ]
  },
  {
   "cell_type": "markdown",
   "metadata": {},
   "source": [
    "### Number of contributors"
   ]
  },
  {
   "cell_type": "code",
   "execution_count": 54,
   "metadata": {},
   "outputs": [
    {
     "data": {
      "text/plain": [
       "<manuscripts2.new_functions.Query at 0xa13f2cc50>"
      ]
     },
     "execution_count": 54,
     "metadata": {},
     "output_type": "execute_result"
    }
   ],
   "source": [
    "contributors = Query(git_index)\n",
    "contributors.get_sum(\"lines_changed\").by_authors(\"author_name\")\n",
    "contributors.get_sum(\"lines_added\").by_authors(\"author_name\")\n",
    "contributors.get_sum(\"lines_removed\").by_authors(\"author_name\")\n",
    "contributors.get_average(\"files\").by_authors(\"author_name\")\n",
    "contributors.get_cardinality(\"author_uuid\")"
   ]
  },
  {
   "cell_type": "code",
   "execution_count": 56,
   "metadata": {},
   "outputs": [
    {
     "data": {
      "text/html": [
       "<div>\n",
       "<style scoped>\n",
       "    .dataframe tbody tr th:only-of-type {\n",
       "        vertical-align: middle;\n",
       "    }\n",
       "\n",
       "    .dataframe tbody tr th {\n",
       "        vertical-align: top;\n",
       "    }\n",
       "\n",
       "    .dataframe thead th {\n",
       "        text-align: right;\n",
       "    }\n",
       "</style>\n",
       "<table border=\"1\" class=\"dataframe\">\n",
       "  <thead>\n",
       "    <tr style=\"text-align: right;\">\n",
       "      <th></th>\n",
       "      <th>0</th>\n",
       "      <th>1</th>\n",
       "      <th>2</th>\n",
       "      <th>3</th>\n",
       "      <th>doc_count</th>\n",
       "      <th>key</th>\n",
       "    </tr>\n",
       "  </thead>\n",
       "  <tbody>\n",
       "    <tr>\n",
       "      <th>0</th>\n",
       "      <td>61910.0</td>\n",
       "      <td>45588.0</td>\n",
       "      <td>16322.0</td>\n",
       "      <td>2.109354</td>\n",
       "      <td>759</td>\n",
       "      <td>Santiago Dueñas</td>\n",
       "    </tr>\n",
       "    <tr>\n",
       "      <th>1</th>\n",
       "      <td>88034.0</td>\n",
       "      <td>61939.0</td>\n",
       "      <td>26095.0</td>\n",
       "      <td>2.221088</td>\n",
       "      <td>294</td>\n",
       "      <td>Valerio Cosentino</td>\n",
       "    </tr>\n",
       "    <tr>\n",
       "      <th>2</th>\n",
       "      <td>15725.0</td>\n",
       "      <td>15335.0</td>\n",
       "      <td>390.0</td>\n",
       "      <td>2.500000</td>\n",
       "      <td>54</td>\n",
       "      <td>Alvaro del Castillo</td>\n",
       "    </tr>\n",
       "    <tr>\n",
       "      <th>3</th>\n",
       "      <td>22862.0</td>\n",
       "      <td>21781.0</td>\n",
       "      <td>1081.0</td>\n",
       "      <td>1.921569</td>\n",
       "      <td>51</td>\n",
       "      <td>Alberto Martín</td>\n",
       "    </tr>\n",
       "    <tr>\n",
       "      <th>4</th>\n",
       "      <td>1118.0</td>\n",
       "      <td>1048.0</td>\n",
       "      <td>70.0</td>\n",
       "      <td>2.222222</td>\n",
       "      <td>18</td>\n",
       "      <td>Jesus M. Gonzalez-Barahona</td>\n",
       "    </tr>\n",
       "  </tbody>\n",
       "</table>\n",
       "</div>"
      ],
      "text/plain": [
       "         0        1        2         3  doc_count                         key\n",
       "0  61910.0  45588.0  16322.0  2.109354        759             Santiago Dueñas\n",
       "1  88034.0  61939.0  26095.0  2.221088        294           Valerio Cosentino\n",
       "2  15725.0  15335.0    390.0  2.500000         54         Alvaro del Castillo\n",
       "3  22862.0  21781.0   1081.0  1.921569         51              Alberto Martín\n",
       "4   1118.0   1048.0     70.0  2.222222         18  Jesus M. Gonzalez-Barahona"
      ]
     },
     "execution_count": 56,
     "metadata": {},
     "output_type": "execute_result"
    }
   ],
   "source": [
    "# maybe a pie chart showing the different users and the magnitude of their contributions is the total number of lines changed/removed/added??\n",
    "\n",
    "buckets_to_df(contributors.fetch_aggregation_results()['aggregations']['0']['buckets']).head()"
   ]
  },
  {
   "cell_type": "markdown",
   "metadata": {},
   "source": [
    "### New contributors\n",
    "\n",
    "For new contributors, we have to get the names and counts of the people who made commits to the project. [This](https://grimoirelab.gitbooks.io/tutorial/python/pandas-for-grimoirelab-indexes.html) tutorial of Grimoirelab actually gets the dates on which the authors made their first commits. Based on that we can get the months when the authors made their first commits and those authors will be the new authors for that month. We can do a similar thing for Year. (We can also get the authors by week, but there is little point in calculating that and it will be complex to calculate that too.)"
   ]
  },
  {
   "cell_type": "code",
   "execution_count": 59,
   "metadata": {},
   "outputs": [
    {
     "name": "stdout",
     "output_type": "stream",
     "text": [
      "              0  doc_count                         key\n",
      "0  1.439921e+12        759             Santiago Dueñas\n",
      "1  1.505391e+12        294           Valerio Cosentino\n",
      "2  1.449255e+12         54         Alvaro del Castillo\n",
      "3  1.455033e+12         51              Alberto Martín\n",
      "4  1.451589e+12         18  Jesus M. Gonzalez-Barahona\n"
     ]
    }
   ],
   "source": [
    "# new contributors by month\n",
    "response = Query(git_index).get_min(\"author_date\")\\\n",
    "                                   .by_authors(\"author_name\")\\\n",
    "                                   .fetch_aggregation_results()\n",
    "print(buckets_to_df(response['aggregations']['0']['buckets']).head())"
   ]
  },
  {
   "cell_type": "markdown",
   "metadata": {},
   "source": [
    "### Contributing Organizations"
   ]
  },
  {
   "cell_type": "code",
   "execution_count": 61,
   "metadata": {},
   "outputs": [
    {
     "name": "stdout",
     "output_type": "stream",
     "text": [
      "0               @Bitergia \n",
      "1                 Bitergia\n",
      "2                 GNUmedia\n",
      "3      @amrita-university \n",
      "4    BBVA Data & Analytics\n",
      "dtype: object\n"
     ]
    }
   ],
   "source": [
    "response = Query(github_index).get_terms(\"user_org\")\\\n",
    "                                       .fetch_aggregation_results()\n",
    "buckets = response['aggregations']['0']['buckets']\n",
    "organizations = pd.Series([item['key'] for item in buckets])\n",
    "print(organizations.head())\n"
   ]
  },
  {
   "cell_type": "code",
   "execution_count": 63,
   "metadata": {},
   "outputs": [
    {
     "name": "stdout",
     "output_type": "stream",
     "text": [
      "[{'0': {'buckets': [{'doc_count': 141, 'key': 'valerio'},\n",
      "                    {'doc_count': 61, 'key': 'Alvaro del Castillo'},\n",
      "                    {'doc_count': 35, 'key': 'Jesus M. Gonzalez-Barahona'},\n",
      "                    {'doc_count': 33, 'key': 'Alberto Martín'},\n",
      "                    {'doc_count': 31, 'key': 'Santiago Dueñas'},\n",
      "                    {'doc_count': 10, 'key': 'Manrique Lopez'},\n",
      "                    {'doc_count': 8, 'key': 'Jose Miguel'},\n",
      "                    {'doc_count': 7, 'key': 'Quan Zhou'},\n",
      "                    {'doc_count': 6, 'key': 'David Pose Fernández'},\n",
      "                    {'doc_count': 4, 'key': 'Daniel Izquierdo Cortazar'},\n",
      "                    {'doc_count': 4, 'key': 'Keanu Nichols'},\n",
      "                    {'doc_count': 3, 'key': 'Brylie Christopher Oxley'},\n",
      "                    {'doc_count': 2, 'key': 'David Esler'},\n",
      "                    {'doc_count': 2, 'key': 'Gustavo Silva'},\n",
      "                    {'doc_count': 2, 'key': 'Israel Herraiz'},\n",
      "                    {'doc_count': 2, 'key': 'Kapil Thangavelu'},\n",
      "                    {'doc_count': 2, 'key': 'Lluis Josep Martinez'},\n",
      "                    {'doc_count': 2, 'key': 'Luis Cañas-Díaz'},\n",
      "                    {'doc_count': 2, 'key': 'Miguel Ángel Fernández'},\n",
      "                    {'doc_count': 2, 'key': 'Robin Muilwijk'},\n",
      "                    {'doc_count': 2, 'key': 'Saad Bin Shahid'},\n",
      "                    {'doc_count': 2, 'key': 'Sachin S. Kamath'},\n",
      "                    {'doc_count': 2, 'key': 'camillem'},\n",
      "                    {'doc_count': 1, 'key': 'Andre Klapper'},\n",
      "                    {'doc_count': 1, 'key': 'Anvesh Chaturvedi'},\n",
      "                    {'doc_count': 1, 'key': 'Armijn Hemel'},\n",
      "                    {'doc_count': 1, 'key': 'Assad (OW2)'},\n",
      "                    {'doc_count': 1, 'key': 'Bogdan Vasilescu'},\n",
      "                    {'doc_count': 1, 'key': 'Bowen Chen'},\n",
      "                    {'doc_count': 1, 'key': 'Cristian Baldi'},\n",
      "                    {'doc_count': 1, 'key': 'Fil Maj'},\n",
      "                    {'doc_count': 1, 'key': 'Germán Poo-Caamaño'},\n",
      "                    {'doc_count': 1, 'key': 'Heather Booker'},\n",
      "                    {'doc_count': 1, 'key': 'Jeremy'},\n",
      "                    {'doc_count': 1, 'key': 'Maëlick'},\n",
      "                    {'doc_count': 1, 'key': 'Michael Downey'},\n",
      "                    {'doc_count': 1, 'key': 'Nicolas Lamirault'},\n",
      "                    {'doc_count': 1, 'key': 'Phillip Furtado'},\n",
      "                    {'doc_count': 1, 'key': 'Prabhat'},\n",
      "                    {'doc_count': 1, 'key': 'Samuel Ytterbrink'},\n",
      "                    {'doc_count': 1, 'key': 'Stephan Barth'},\n",
      "                    {'doc_count': 1, 'key': 'Taewan Kim'}],\n",
      "        'doc_count_error_upper_bound': 0,\n",
      "        'sum_other_doc_count': 0},\n",
      "  'doc_count': 401,\n",
      "  'key': 'others'}]\n"
     ]
    }
   ],
   "source": [
    "response = Query(github_index).get_terms(\"author_name\")\\\n",
    "                                   .by_organizations(\"user_orgs\")\\\n",
    "                                   .fetch_aggregation_results()\n",
    "pprint(response['aggregations']['0']['buckets'])\n"
   ]
  }
 ],
 "metadata": {
  "kernelspec": {
   "display_name": "Python 3",
   "language": "python",
   "name": "python3"
  },
  "language_info": {
   "codemirror_mode": {
    "name": "ipython",
    "version": 3
   },
   "file_extension": ".py",
   "mimetype": "text/x-python",
   "name": "python",
   "nbconvert_exporter": "python",
   "pygments_lexer": "ipython3",
   "version": "3.6.3"
  }
 },
 "nbformat": 4,
 "nbformat_minor": 2
}
